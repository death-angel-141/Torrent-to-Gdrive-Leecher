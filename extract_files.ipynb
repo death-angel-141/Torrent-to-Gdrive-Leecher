{
  "nbformat": 4,
  "nbformat_minor": 0,
  "metadata": {
    "colab": {
      "name": "Untitled1.ipynb",
      "provenance": []
    },
    "kernelspec": {
      "name": "python3",
      "display_name": "Python 3"
    }
  },
  "cells": [
    {
      "cell_type": "markdown",
      "metadata": {
        "id": "EJVoV1WZ2xuL",
        "colab_type": "text"
      },
      "source": [
        "**Extract all compressed files and upload it to your GDrive**"
      ]
    },
    {
      "cell_type": "markdown",
      "metadata": {
        "id": "uGioN0ve5wqB",
        "colab_type": "text"
      },
      "source": [
        "**Mount Your Drive First**"
      ]
    },
    {
      "cell_type": "code",
      "metadata": {
        "id": "xYPG81W_55K8",
        "colab_type": "code",
        "colab": {}
      },
      "source": [
        "from google.colab import drive\n",
        "drive.mount('/content/drive')"
      ],
      "execution_count": null,
      "outputs": []
    },
    {
      "cell_type": "markdown",
      "metadata": {
        "id": "89Us8VVk3Gva",
        "colab_type": "text"
      },
      "source": [
        "**Zip file format**"
      ]
    },
    {
      "cell_type": "code",
      "metadata": {
        "id": "8TDx7S-y3J7S",
        "colab_type": "code",
        "colab": {}
      },
      "source": [
        "!apt install unzip"
      ],
      "execution_count": null,
      "outputs": []
    },
    {
      "cell_type": "code",
      "metadata": {
        "id": "wiD78W4W3LBh",
        "colab_type": "code",
        "colab": {}
      },
      "source": [
        "!unzip \"Your file Path\" -d \"Your file destination Path\""
      ],
      "execution_count": null,
      "outputs": []
    },
    {
      "cell_type": "markdown",
      "metadata": {
        "id": "uvmDL6sY4Fmm",
        "colab_type": "text"
      },
      "source": [
        "**RAR file format**"
      ]
    },
    {
      "cell_type": "code",
      "metadata": {
        "id": "JuTgcNeL4Kyh",
        "colab_type": "code",
        "colab": {}
      },
      "source": [
        "!pip install pyunpack\n",
        "!pip install patool\n",
        "from pyunpack import Archive\n",
        "Archive('Your file Path').extractall('Your file destination Path')"
      ],
      "execution_count": null,
      "outputs": []
    }
  ]
}